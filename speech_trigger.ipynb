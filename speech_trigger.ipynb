{
 "cells": [
  {
   "cell_type": "code",
   "execution_count": 1,
   "id": "f6396f89",
   "metadata": {},
   "outputs": [],
   "source": [
    "import soundfile as sf\n",
    "import librosa\n",
    "import torch\n",
    "from transformers import Wav2Vec2ForCTC, Wav2Vec2Tokenizer"
   ]
  },
  {
   "cell_type": "code",
   "execution_count": 2,
   "id": "fb878e3d",
   "metadata": {},
   "outputs": [
    {
     "name": "stderr",
     "output_type": "stream",
     "text": [
      "The tokenizer class you load from this checkpoint is not the same type as the class this function is called from. It may result in unexpected tokenization. \n",
      "The tokenizer class you load from this checkpoint is 'Wav2Vec2CTCTokenizer'. \n",
      "The class this function is called from is 'Wav2Vec2Tokenizer'.\n",
      "D:\\Anaconda\\anaconda3\\envs\\py3_TF2.0\\lib\\site-packages\\transformers\\models\\wav2vec2\\tokenization_wav2vec2.py:792: FutureWarning: The class `Wav2Vec2Tokenizer` is deprecated and will be removed in version 5 of Transformers. Please use `Wav2Vec2Processor` or `Wav2Vec2CTCTokenizer` instead.\n",
      "  warnings.warn(\n",
      "Some weights of Wav2Vec2ForCTC were not initialized from the model checkpoint at facebook/wav2vec2-base-960h and are newly initialized: ['wav2vec2.masked_spec_embed']\n",
      "You should probably TRAIN this model on a down-stream task to be able to use it for predictions and inference.\n"
     ]
    }
   ],
   "source": [
    "tokenizer = Wav2Vec2Tokenizer.from_pretrained(\"facebook/wav2vec2-base-960h\")\n",
    "model = Wav2Vec2ForCTC.from_pretrained(\"facebook/wav2vec2-base-960h\")"
   ]
  },
  {
   "cell_type": "code",
   "execution_count": 3,
   "id": "07a3103c",
   "metadata": {},
   "outputs": [],
   "source": [
    "import pandas\n",
    "data=pandas.read_csv('apple_audio.csv')"
   ]
  },
  {
   "cell_type": "code",
   "execution_count": 7,
   "id": "5f174030",
   "metadata": {},
   "outputs": [
    {
     "name": "stdout",
     "output_type": "stream",
     "text": [
      "AN APPLE A DAY KEEPS THE DOCTOR AWAY\n",
      "<-------------occurs---------------->\n",
      "APPLE SEEDS HAVE A TINY BIT OF POISON\n",
      "<-------------occurs---------------->\n",
      "APPLE SEEDS SHOULD NOT BE EATEN\n",
      "<-------------occurs---------------->\n",
      "APPLE USUALLY GROWS IN HILLY AREAS\n",
      "<-------------occurs---------------->\n",
      "NEWTON SHOULD CATCH THAT APPLE\n",
      "<-------------occurs---------------->\n",
      "TODAY IS SUNDAY\n",
      "I AM TOO ABSENT\n",
      "DO NOT TRY THIS ANYWHERE\n",
      "THIS IS NICE\n",
      "I WOULD LOVE TO CHANGE THE WORLD\n",
      "AN APPLE A DAY KEEPS THE DOCTOR AWAY\n",
      "<-------------occurs---------------->\n",
      "APPLE SEEDS HAVE A TINY BIT OF POISON\n",
      "<-------------occurs---------------->\n",
      "APPLE SEEDS SHOULD NOT BE EATEN\n",
      "<-------------occurs---------------->\n",
      "APPLE USUALLY GROWS IN HILLY AREAS\n",
      "<-------------occurs---------------->\n",
      "NEWTON SHOULD CATCH THAT APPLE\n",
      "<-------------occurs---------------->\n",
      "TODAY IS SUNDAY\n",
      "I AM TOO ABSENT\n",
      "DO NOT TRY THIS ANYWHERE\n",
      "THIS IS NICE\n",
      "I WOULD LOVE TO CHANGE THE WORLD\n"
     ]
    }
   ],
   "source": [
    "def travis(row):\n",
    "    input_audio, _= librosa.load(row.file_name, sr=16000)  # sr=None loads with original sampling rate\n",
    "    input_values = tokenizer(input_audio, return_tensors=\"pt\").input_values\n",
    "    logits = model(input_values).logits\n",
    "    predicted_ids = torch.argmax(logits, dim=-1)\n",
    "    transcription = tokenizer.batch_decode(predicted_ids)[0]\n",
    "    print(row.sentence)\n",
    "    if 'APPLE' in transcription:\n",
    "        print(\"<-------------occurs---------------->\")\n",
    "#return (run,wicket)\n",
    "out=data.apply(lambda row: travis(row),axis=1)"
   ]
  },
  {
   "cell_type": "code",
   "execution_count": null,
   "id": "325af8b9",
   "metadata": {},
   "outputs": [],
   "source": []
  }
 ],
 "metadata": {
  "kernelspec": {
   "display_name": "Python [conda env:py3_TF2.0] *",
   "language": "python",
   "name": "conda-env-py3_TF2.0-py"
  },
  "language_info": {
   "codemirror_mode": {
    "name": "ipython",
    "version": 3
   },
   "file_extension": ".py",
   "mimetype": "text/x-python",
   "name": "python",
   "nbconvert_exporter": "python",
   "pygments_lexer": "ipython3",
   "version": "3.10.8"
  }
 },
 "nbformat": 4,
 "nbformat_minor": 5
}
